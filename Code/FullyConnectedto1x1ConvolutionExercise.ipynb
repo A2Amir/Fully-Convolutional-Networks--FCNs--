{
 "cells": [
  {
   "cell_type": "code",
   "execution_count": 2,
   "metadata": {},
   "outputs": [],
   "source": [
    "import numpy as np\n",
    "import keras\n",
    "import os\n",
    "os.environ['TF_CPP_MIN_LOG_LEVEL'] = '3' \n",
    "import tensorflow as tf\n",
    "tf.compat.v1.logging.set_verbosity(tf.compat.v1.logging.WARN)  # or any {DEBUG, INFO, WARN, ERROR, FATAL}"
   ]
  },
  {
   "cell_type": "markdown",
   "metadata": {},
   "source": [
    "In this exercise I am going to rewrite a dense layer, tf.layers.dense as a convolutional layer, tf.layers.conv2d. The underlying math will be the same, but the spatial information will be preserved allowing seamless use of future convolutional layers."
   ]
  },
  {
   "cell_type": "code",
   "execution_count": 3,
   "metadata": {},
   "outputs": [],
   "source": [
    "# custom init with the seed set to 0 by default\n",
    "def custom_init(shape,dtype=tf.int32,partition_info=None,seed=0):\n",
    "    \n",
    "    return tf.random_normal(shape,dtype=dtype,seed=seed)\n"
   ]
  },
  {
   "cell_type": "code",
   "execution_count": 4,
   "metadata": {},
   "outputs": [],
   "source": [
    "#Use `tf.layers.conv2d` to reproduce the result of `tf.layers.dense`.\n",
    "# Set the `kernel_size` and `stride`.\n",
    "def conv_1x1(x,num_output):\n",
    "    kernel_size=1\n",
    "    stride=1\n",
    "    return tf.layers.conv2d(x,num_output,kernel_size,stride,kernel_initializer=custom_init)\n"
   ]
  },
  {
   "cell_type": "code",
   "execution_count": 5,
   "metadata": {},
   "outputs": [],
   "source": [
    "num_outputs=6\n",
    "x=tf.constant(np.random.randn(1,2,2,1),dtype=tf.float32)"
   ]
  },
  {
   "cell_type": "markdown",
   "metadata": {},
   "source": [
    "One way to think about one by one convolutional layers is the number of kernels is equivalent to the number of outputs in a fully connected layer. Similarly, the number of weights in each kernel is equivalent to the number of inputs in the fully connected layer. Effectively, this turns convolutions into a matrix multiplication with spatial information. "
   ]
  },
  {
   "cell_type": "code",
   "execution_count": 7,
   "metadata": {},
   "outputs": [],
   "source": [
    "dense_out = tf.layers.dense(x, num_outputs,kernel_initializer=custom_init)\n",
    "conv_out = conv_1x1(x, num_outputs)\n"
   ]
  },
  {
   "cell_type": "code",
   "execution_count": 8,
   "metadata": {},
   "outputs": [
    {
     "name": "stdout",
     "output_type": "stream",
     "text": [
      "(1, 2, 2, 6)\n",
      "(1, 2, 2, 6)\n"
     ]
    }
   ],
   "source": [
    "print(dense_out.shape)\n",
    "print(conv_out.shape)"
   ]
  },
  {
   "cell_type": "code",
   "execution_count": 9,
   "metadata": {},
   "outputs": [
    {
     "name": "stdout",
     "output_type": "stream",
     "text": [
      "Dense Output = [[[[ 0.50380087 -2.6561394  -0.21592058 -0.68979347  3.0587225\n",
      "    -0.5333308 ]\n",
      "   [ 0.3227102  -1.7013931  -0.13830817 -0.44184795  1.9592681\n",
      "    -0.34162566]]\n",
      "\n",
      "  [[ 0.07980407 -0.4207431  -0.03420268 -0.10926604  0.48451388\n",
      "    -0.08448173]\n",
      "   [ 0.27763024 -1.4637225  -0.11898765 -0.38012543  1.6855744\n",
      "    -0.29390335]]]]\n",
      "Conv 1x1 Output = [[[[ 0.50380087 -2.6561394  -0.21592058 -0.68979347  3.0587225\n",
      "    -0.5333308 ]\n",
      "   [ 0.3227102  -1.7013931  -0.13830817 -0.44184795  1.9592681\n",
      "    -0.34162566]]\n",
      "\n",
      "  [[ 0.07980407 -0.4207431  -0.03420268 -0.10926604  0.48451388\n",
      "    -0.08448173]\n",
      "   [ 0.27763024 -1.4637225  -0.11898765 -0.38012543  1.6855744\n",
      "    -0.29390335]]]]\n",
      "Same output? = True\n"
     ]
    }
   ],
   "source": [
    "with tf.Session() as sess:\n",
    "    sess.run(tf.global_variables_initializer())\n",
    "    \n",
    "    a = sess.run(dense_out)\n",
    "    b = sess.run(conv_out)\n",
    "    print(\"Dense Output =\", a)\n",
    "    print(\"Conv 1x1 Output =\", b)\n",
    "\n",
    "    print(\"Same output? =\", np.allclose(a, b, atol=1.e-5))"
   ]
  },
  {
   "cell_type": "markdown",
   "metadata": {},
   "source": [
    "The correct use is tf.layers.conv2d(x, num_outputs, 1, 1, kernel_initializer=custom_init).\n",
    "\n",
    "    num_outputs defines the number of output channels or kernels\n",
    "    The third argument is the kernel size, which is 1.\n",
    "    The fourth argument is the stride, we set this to 1.\n",
    "    We use the custom initializer so the weights in the dense and convolutional layers are identical.\n",
    "\n",
    "This results in the a matrix multiplication operation that preserves spatial information.\n"
   ]
  },
  {
   "cell_type": "code",
   "execution_count": null,
   "metadata": {},
   "outputs": [],
   "source": []
  }
 ],
 "metadata": {
  "kernelspec": {
   "display_name": "Python 3",
   "language": "python",
   "name": "python3"
  },
  "language_info": {
   "codemirror_mode": {
    "name": "ipython",
    "version": 3
   },
   "file_extension": ".py",
   "mimetype": "text/x-python",
   "name": "python",
   "nbconvert_exporter": "python",
   "pygments_lexer": "ipython3",
   "version": "3.6.9"
  }
 },
 "nbformat": 4,
 "nbformat_minor": 2
}
