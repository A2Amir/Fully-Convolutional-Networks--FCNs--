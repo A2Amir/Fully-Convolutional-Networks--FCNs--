{
 "cells": [
  {
   "cell_type": "markdown",
   "metadata": {},
   "source": [
    "## Transposed Convolution Exercise"
   ]
  },
  {
   "cell_type": "markdown",
   "metadata": {},
   "source": [
    "Transposed convolutions are used to upsample the input and are a core part of the FCN architecture.\n",
    "\n",
    "In TensorFlow, the API tf.layers.conv2d_transpose is used to create a transposed convolutional layer. Using this [documentation](https://www.tensorflow.org/api_docs/python/tf/contrib/layers/conv2d_transpose), use tf.layers.conv2d_transpose to apply 2x upsampling in the following."
   ]
  },
  {
   "cell_type": "code",
   "execution_count": 3,
   "metadata": {},
   "outputs": [],
   "source": [
    "import numpy as np\n",
    "import os\n",
    "\n",
    "import numpy as np\n",
    "os.environ['TF_CPP_MIN_LOG_LEVEL'] = '3'\n",
    "import tensorflow as tf"
   ]
  },
  {
   "cell_type": "code",
   "execution_count": 4,
   "metadata": {},
   "outputs": [
    {
     "data": {
      "text/plain": [
       "'1.14.0'"
      ]
     },
     "execution_count": 4,
     "metadata": {},
     "output_type": "execute_result"
    }
   ],
   "source": [
    "tf.__version__"
   ]
  },
  {
   "cell_type": "code",
   "execution_count": 8,
   "metadata": {},
   "outputs": [],
   "source": [
    "def upsample(x):\n",
    "    \"\"\"\n",
    "    Applays two times upsample on x and return the resul\n",
    "    :x:4-Rank Tensor\n",
    "    :return:TF Operation\n",
    "    \"\"\"\n",
    "    x=tf.layers.conv2d_transpose(x,3,(2,2),(2,2))\n",
    "    return x"
   ]
  },
  {
   "cell_type": "code",
   "execution_count": 11,
   "metadata": {},
   "outputs": [],
   "source": [
    "x=tf.constant(np.random.randn(1,4,4,3),dtype=tf.float32)\n",
    "conv=upsample(x)"
   ]
  },
  {
   "cell_type": "code",
   "execution_count": 15,
   "metadata": {},
   "outputs": [
    {
     "name": "stdout",
     "output_type": "stream",
     "text": [
      "Input shape: (1, 4, 4, 3)\n",
      "Output shape: (1, 8, 8, 3)\n"
     ]
    }
   ],
   "source": [
    "with tf.Session() as sess:\n",
    "    sess.run(tf.global_variables_initializer())\n",
    "    result=sess.run(conv)\n",
    "    print('Input shape: {}'.format(x.get_shape()))\n",
    "    print('Output shape: {}'.format(result.shape))"
   ]
  },
  {
   "cell_type": "markdown",
   "metadata": {},
   "source": [
    "The possible answer is using tf.layers.conv2d_transpose(x, 3, (2, 2), (2, 2)) to upsample.\n",
    "\n",
    "* The second argument 3 is the number of kernels/output channels.\n",
    "* The third argument is the kernel size, (2, 2). Note that the kernel size could also be (1, 1) and the output shape would be the same. However, if it were changed to (3, 3) note the shape would be (9, 9), at least with 'VALID' padding.\n",
    "* The fourth argument, the number of strides, is how I get from a height and width from (4, 4) to (8, 8). If this were a regular convolution the output height and width would be (2, 2).\n",
    "\n",
    "Now that I've learned how to use transposed convolution.\n"
   ]
  },
  {
   "cell_type": "code",
   "execution_count": null,
   "metadata": {},
   "outputs": [],
   "source": []
  }
 ],
 "metadata": {
  "kernelspec": {
   "display_name": "Python 3",
   "language": "python",
   "name": "python3"
  },
  "language_info": {
   "codemirror_mode": {
    "name": "ipython",
    "version": 3
   },
   "file_extension": ".py",
   "mimetype": "text/x-python",
   "name": "python",
   "nbconvert_exporter": "python",
   "pygments_lexer": "ipython3",
   "version": "3.6.9"
  }
 },
 "nbformat": 4,
 "nbformat_minor": 2
}
