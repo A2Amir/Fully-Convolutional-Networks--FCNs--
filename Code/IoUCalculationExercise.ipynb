{
 "cells": [
  {
   "cell_type": "code",
   "execution_count": 2,
   "metadata": {},
   "outputs": [],
   "source": [
    "import tensorflow as tf\n",
    "import numpy as np"
   ]
  },
  {
   "cell_type": "markdown",
   "metadata": {},
   "source": [
    " Remember IOU is Intersection over Union, where the Intersection set is an AND operation (pixels that are truly part of a class AND are classified as part of the class by the network) and the Union is an OR operation (pixels that are truly part of that class + pixels that are classified as part of that class by the network)."
   ]
  },
  {
   "cell_type": "markdown",
   "metadata": {},
   "source": [
    "### TensorFlow IoU\n",
    "\n",
    "look at the tf.metrics.mean_iou function. Like all the other [TensorFlow metric functions](https://www.tensorflow.org/api_docs/python/tf/metrics), it returns a Tensor for the metric result and a Tensor Operation to generate the result. In this case it returns mean_iou for the result and update_op for the update operation. Make sure to run update_op before getting the result from mean_iou."
   ]
  },
  {
   "cell_type": "code",
   "execution_count": 3,
   "metadata": {},
   "outputs": [],
   "source": [
    "def mean_iou(ground_truth,prediction,num_classes):\n",
    "    mean_iou,update_op=tf.metrics.mean_iou(ground_truth,prediction,num_classes)\n",
    "    return mean_iou,update_op"
   ]
  },
  {
   "cell_type": "code",
   "execution_count": 4,
   "metadata": {},
   "outputs": [],
   "source": [
    "ground_trouth=tf.constant([[0,0,0,0],\n",
    "                           [1,1,1,1],\n",
    "                           [2,2,2,2],\n",
    "                           [3,3,3,3]],dtype=tf.float32)\n",
    "prediction=tf.constant([[0,0,0,0],\n",
    "                        [1,0,0,1],\n",
    "                        [1,2,2,1],\n",
    "                        [3,3,0,3]],dtype=tf.float32)\n"
   ]
  },
  {
   "cell_type": "code",
   "execution_count": 5,
   "metadata": {},
   "outputs": [
    {
     "name": "stdout",
     "output_type": "stream",
     "text": [
      "WARNING:tensorflow:From C:\\Users\\ziaeeamir\\AppData\\Local\\Continuum\\anaconda3\\envs\\Huber\\lib\\site-packages\\tensorflow\\python\\ops\\metrics_impl.py:1178: add_dispatch_support.<locals>.wrapper (from tensorflow.python.ops.array_ops) is deprecated and will be removed in a future version.\n",
      "Instructions for updating:\n",
      "Use tf.where in 2.0, which has the same broadcast rule as np.where\n",
      "WARNING:tensorflow:From C:\\Users\\ziaeeamir\\AppData\\Local\\Continuum\\anaconda3\\envs\\Huber\\lib\\site-packages\\tensorflow\\python\\ops\\metrics_impl.py:1179: div (from tensorflow.python.ops.math_ops) is deprecated and will be removed in a future version.\n",
      "Instructions for updating:\n",
      "Deprecated in favor of operator or tf.math.divide.\n"
     ]
    }
   ],
   "source": [
    "mean_iou,update_op=mean_iou(ground_trouth,prediction,4)"
   ]
  },
  {
   "cell_type": "markdown",
   "metadata": {},
   "source": [
    "The other characteristic of TensorFlow metric functions is the usage of [local TensorFlow variables](https://www.tensorflow.org/api_docs/python/tf/local_variables). These are temporary TensorFlow Variables that must be initialized by running tf.local_variables_initializer(). This is similar to tf.global_variables_initializer(), but for different TensorFlow Variables."
   ]
  },
  {
   "cell_type": "code",
   "execution_count": 6,
   "metadata": {},
   "outputs": [
    {
     "name": "stdout",
     "output_type": "stream",
     "text": [
      "Mean IoU = [[4. 0. 0. 0.]\n",
      " [2. 2. 0. 0.]\n",
      " [0. 2. 2. 0.]\n",
      " [1. 0. 0. 3.]]\n",
      "Mean IoU = 0.53869045\n"
     ]
    }
   ],
   "source": [
    "with tf.Session() as sess:\n",
    "    sess.run(tf.global_variables_initializer())\n",
    "    sess.run(tf.local_variables_initializer())\n",
    "    \n",
    "    print(\"Mean IoU =\", sess.run(update_op))\n",
    "    print(\"Mean IoU =\", sess.run(mean_iou))"
   ]
  },
  {
   "cell_type": "markdown",
   "metadata": {},
   "source": [
    "\n",
    "Steps\n",
    "\n",
    "    count true positives (TP)\n",
    "    count false positives (FP)\n",
    "\n",
    "    count false negatives (TN)\n",
    "\n",
    "    Intersection = TP\n",
    "    Union = TP + FP + FN\n",
    "    IOU = Intersection/Union\n",
    "\n",
    "\n"
   ]
  },
  {
   "attachments": {
    "grafik.png": {
     "image/png": "[encoded data removed]"
    }
   },
   "cell_type": "markdown",
   "metadata": {},
   "source": [
    "![grafik.png](attachment:grafik.png)"
   ]
  },
  {
   "attachments": {
    "grafik.png": {
     "image/png": "[encoded data removed]"
    }
   },
   "cell_type": "markdown",
   "metadata": {},
   "source": [
    "![grafik.png](attachment:grafik.png)"
   ]
  },
  {
   "cell_type": "markdown",
   "metadata": {},
   "source": [
    "Mean IOU = [ (4/7) + (2/6) + (2/4) + (3/4)]/4 = 0.539\n"
   ]
  },
  {
   "cell_type": "code",
   "execution_count": null,
   "metadata": {},
   "outputs": [],
   "source": []
  },
  {
   "cell_type": "code",
   "execution_count": null,
   "metadata": {},
   "outputs": [],
   "source": []
  }
 ],
 "metadata": {
  "kernelspec": {
   "display_name": "Python 3",
   "language": "python",
   "name": "python3"
  },
  "language_info": {
   "codemirror_mode": {
    "name": "ipython",
    "version": 3
   },
   "file_extension": ".py",
   "mimetype": "text/x-python",
   "name": "python",
   "nbconvert_exporter": "python",
   "pygments_lexer": "ipython3",
   "version": "3.6.9"
  }
 },
 "nbformat": 4,
 "nbformat_minor": 2
}
